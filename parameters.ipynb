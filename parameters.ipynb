{
 "cells": [
  {
   "cell_type": "code",
   "execution_count": 1,
   "metadata": {},
   "outputs": [],
   "source": [
    "import numpy as np\n",
    "import matplotlib.pyplot as plt\n",
    "from antOptimization import AntColony\n",
    "\n",
    "\n",
    "def generate_random_distance_matrix(size):\n",
    "    # 生成一个随机的距离矩阵，矩阵大小为 size x size\n",
    "    np.random.seed(42)  # 设置随机种子以确保结果的可重复性\n",
    "    distances = np.random.uniform(1, 100, size=(size, size))  # 生成随机距离，范围1到100\n",
    "    distances = np.round(distances, 2)\n",
    "\n",
    "    distances = (distances + distances.T) / 2  # 使矩阵对称，确保距离的一致性\n",
    "    np.fill_diagonal(distances, np.inf)  # 设置对角线为无穷大，表示自己到自己的距离\n",
    "    return distances\n"
   ]
  },
  {
   "cell_type": "code",
   "execution_count": 2,
   "metadata": {},
   "outputs": [],
   "source": [
    "import time\n",
    "\n",
    "\n",
    "class AntTime(AntColony):\n",
    "    def run(self):\n",
    "        start_time = time.time()  # Record the start time\n",
    "        shortest_path = None\n",
    "        all_time_shortest_path = (\"placeholder\", np.inf)\n",
    "        iteration_shortest_paths = []  # List to store each iteration's shortest path\n",
    "        convergence_threshold = 0.01  # 定义收敛阈值\n",
    "        convergence_count = 5  # 定义需要连续多少次小于阈值才认为收敛\n",
    "        convergence_iterations = 0  # 初始化连续达到阈值的次数\n",
    "        previous_shortest_distance = np.inf  # 初始化前一次的最短路径长度\n",
    "\n",
    "        for i in range(self.n_iterations):\n",
    "            all_paths = self.gen_all_paths()\n",
    "            self.spread_pheronome(all_paths, self.n_best, shortest_path=shortest_path)\n",
    "            shortest_path = min(all_paths, key=lambda x: x[1])\n",
    "            iteration_shortest_paths.append(shortest_path[1])  # Append current iteration's shortest distance\n",
    "            if shortest_path[1] < all_time_shortest_path[1]:\n",
    "                all_time_shortest_path = shortest_path            \n",
    "            self.pheromone = self.pheromone * self.decay\n",
    "            # 判断是否收敛\n",
    "            distance_improvement = previous_shortest_distance - shortest_path[1]\n",
    "            if distance_improvement < convergence_threshold:\n",
    "                convergence_iterations += 1\n",
    "                # print(distance_improvement)\n",
    "            else:\n",
    "                # print(distance_improvement)\n",
    "                convergence_iterations = 0  # 重置连续达到阈值的次数\n",
    "            if convergence_iterations >= convergence_count:\n",
    "                print(f\"Algorithm has converged after {i+1} iterations.\")\n",
    "                break  # 收敛，跳出循环            \n",
    "            previous_shortest_distance = shortest_path[1]  # 更新前一次的最短路径长度\n",
    "        end_time = time.time()  # Record the end time\n",
    "        execution_time = end_time - start_time  # Calculate the execution time\n",
    "        return execution_time  # Return the all-time shortest path and list of iteration shortest paths\n"
   ]
  },
  {
   "cell_type": "code",
   "execution_count": 3,
   "metadata": {},
   "outputs": [
    {
     "data": {
      "text/plain": [
       "array([[   inf, 90.785, 55.44 , ..., 12.325, 64.275, 37.33 ],\n",
       "       [90.785,    inf, 48.68 , ..., 53.61 , 17.46 , 62.265],\n",
       "       [55.44 , 48.68 ,    inf, ..., 14.53 , 59.885, 36.78 ],\n",
       "       ...,\n",
       "       [12.325, 53.61 , 14.53 , ...,    inf, 72.48 , 61.56 ],\n",
       "       [64.275, 17.46 , 59.885, ..., 72.48 ,    inf, 24.26 ],\n",
       "       [37.33 , 62.265, 36.78 , ..., 61.56 , 24.26 ,    inf]])"
      ]
     },
     "execution_count": 3,
     "metadata": {},
     "output_type": "execute_result"
    }
   ],
   "source": [
    "\n",
    "# 生成80*80的随机距离矩阵\n",
    "size = 80\n",
    "distances = generate_random_distance_matrix(size)\n",
    "distances\n"
   ]
  },
  {
   "cell_type": "code",
   "execution_count": 4,
   "metadata": {},
   "outputs": [
    {
     "name": "stdout",
     "output_type": "stream",
     "text": [
      "Algorithm has converged after 17 iterations.\n",
      "Algorithm has converged after 18 iterations.\n",
      "Algorithm has converged after 47 iterations.\n",
      "Algorithm has converged after 39 iterations.\n",
      "Algorithm has converged after 50 iterations.\n",
      "Algorithm has converged after 39 iterations.\n",
      "Algorithm has converged after 26 iterations.\n",
      "Algorithm has converged after 46 iterations.\n",
      "Algorithm has converged after 73 iterations.\n"
     ]
    }
   ],
   "source": [
    "excecution_time=[]\n",
    "number_ants=[]\n",
    "for i in range(1,60,5):\n",
    "    ant_colony = AntTime(distances, n_ants=60, n_best=i,\n",
    "                            n_iterations=100, decay=0.5, alpha=1, beta=2)\n",
    "    Time= ant_colony.run()\n",
    "    number_ants.append(i)\n",
    "    excecution_time.append(Time)"
   ]
  },
  {
   "cell_type": "code",
   "execution_count": 5,
   "metadata": {},
   "outputs": [
    {
     "data": {
      "image/png": "[encoded data removed]",
      "text/plain": [
       "<Figure size 640x480 with 1 Axes>"
      ]
     },
     "metadata": {},
     "output_type": "display_data"
    }
   ],
   "source": [
    "plt.figure()  # 设置图像大小\n",
    "plt.bar(number_ants,excecution_time)  # 画柱状图，X轴是迭代次数，Y轴是距离值\n",
    "\n",
    "# 设置图表标题和轴标签\n",
    "plt.title(f'Iteration - number of elite ants')\n",
    "plt.xlabel('number of elite Ants')\n",
    "plt.ylabel('Excecution time')\n",
    "# 显示图表\n",
    "plt.show()\n"
   ]
  },
  {
   "cell_type": "code",
   "execution_count": null,
   "metadata": {},
   "outputs": [],
   "source": [
    "excecution_time=[]\n",
    "number_ants=[]\n",
    "for i in range(1,100,5):\n",
    "    ant_colony = AntTime(distances, n_ants=i, n_best=10,\n",
    "                n_iterations=100, decay=0.5, alpha=1, beta=2)\n",
    "    Time= ant_colony.run()\n",
    "    number_ants.append(i)\n",
    "    excecution_time.append(Time)\n"
   ]
  },
  {
   "cell_type": "code",
   "execution_count": null,
   "metadata": {},
   "outputs": [],
   "source": [
    "plt.figure()  # 设置图像大小\n",
    "plt.bar(number_ants,excecution_time)  # 画柱状图，X轴是迭代次数，Y轴是距离值\n",
    "\n",
    "# 设置图表标题和轴标签\n",
    "plt.title(f'Iteration - number of ants')\n",
    "plt.xlabel('number of Ants')\n",
    "plt.ylabel('Excecution time')\n",
    "# 显示图表\n",
    "plt.show()\n"
   ]
  },
  {
   "cell_type": "code",
   "execution_count": 6,
   "metadata": {},
   "outputs": [
    {
     "name": "stdout",
     "output_type": "stream",
     "text": [
      "Algorithm has converged after 15 iterations.\n",
      "Algorithm has converged after 18 iterations.\n",
      "Algorithm has converged after 14 iterations.\n",
      "Algorithm has converged after 20 iterations.\n",
      "Algorithm has converged after 22 iterations.\n",
      "Algorithm has converged after 26 iterations.\n",
      "Algorithm has converged after 45 iterations.\n",
      "Algorithm has converged after 61 iterations.\n"
     ]
    }
   ],
   "source": [
    "excecution_time=[]\n",
    "number_ants=[]\n",
    "for i in range(1,10,1):\n",
    "    i=i/10\n",
    "    ant_colony = AntTime(distances, n_ants=60, n_best=5,\n",
    "                            n_iterations=100, decay=i, alpha=1, beta=2)\n",
    "    Time = ant_colony.run()\n",
    "    number_ants.append(i)\n",
    "    excecution_time.append(Time)"
   ]
  },
  {
   "cell_type": "code",
   "execution_count": 7,
   "metadata": {},
   "outputs": [
    {
     "name": "stdout",
     "output_type": "stream",
     "text": [
      "[2.079793930053711, 2.450233221054077, 1.9029979705810547, 2.7135348320007324, 3.004281997680664, 3.600389003753662, 6.122585773468018, 8.438776016235352, 14.097636938095093]\n",
      "[0.1, 0.2, 0.3, 0.4, 0.5, 0.6, 0.7, 0.8, 0.9]\n"
     ]
    }
   ],
   "source": [
    "print(excecution_time)\n",
    "print(number_ants)"
   ]
  },
  {
   "cell_type": "code",
   "execution_count": 8,
   "metadata": {},
   "outputs": [
    {
     "data": {
      "image/png": "[encoded data removed]",
      "text/plain": [
       "<Figure size 640x480 with 1 Axes>"
      ]
     },
     "metadata": {},
     "output_type": "display_data"
    }
   ],
   "source": [
    "plt.figure()  # 设置图像大小\n",
    "plt.bar(number_ants,excecution_time,width=0.09)  # 画柱状图，X轴是迭代次数，Y轴是距离值\n",
    "\n",
    "# 设置图表标题和轴标签\n",
    "plt.title(f'Iteration - Decay')\n",
    "plt.xlabel('decay')\n",
    "plt.ylabel('Excecution time')\n",
    "# 显示图表\n",
    "plt.show()\n"
   ]
  },
  {
   "cell_type": "code",
   "execution_count": 9,
   "metadata": {},
   "outputs": [
    {
     "name": "stdout",
     "output_type": "stream",
     "text": [
      "Algorithm has converged after 29 iterations.\n",
      "Algorithm has converged after 27 iterations.\n",
      "Algorithm has converged after 24 iterations.\n",
      "Algorithm has converged after 14 iterations.\n",
      "Algorithm has converged after 14 iterations.\n",
      "Algorithm has converged after 17 iterations.\n",
      "Algorithm has converged after 13 iterations.\n"
     ]
    }
   ],
   "source": [
    "excecution_time=[]\n",
    "number_ants=[]\n",
    "for i in range(1,20,2):\n",
    "    i=i/10\n",
    "    ant_colony = AntTime(distances, n_ants=60, n_best=5,\n",
    "                            n_iterations=100, decay=0.4, alpha=i, beta=2)\n",
    "    Time = ant_colony.run()\n",
    "    number_ants.append(i)\n",
    "    excecution_time.append(Time)"
   ]
  },
  {
   "cell_type": "code",
   "execution_count": 10,
   "metadata": {},
   "outputs": [
    {
     "data": {
      "image/png": "[encoded data removed]",
      "text/plain": [
       "<Figure size 640x480 with 1 Axes>"
      ]
     },
     "metadata": {},
     "output_type": "display_data"
    }
   ],
   "source": [
    "plt.figure()  # 设置图像大小\n",
    "plt.bar(number_ants,excecution_time,width=0.15)  # 画柱状图，X轴是迭代次数，Y轴是距离值\n",
    "\n",
    "# 设置图表标题和轴标签\n",
    "plt.title(f'Iteration - alpha')\n",
    "plt.xlabel('Alpha')\n",
    "plt.ylabel('Excecution time')\n",
    "# 显示图表\n",
    "plt.show()\n"
   ]
  },
  {
   "cell_type": "code",
   "execution_count": 11,
   "metadata": {},
   "outputs": [
    {
     "name": "stdout",
     "output_type": "stream",
     "text": [
      "Algorithm has converged after 19 iterations.\n",
      "Algorithm has converged after 20 iterations.\n",
      "Algorithm has converged after 18 iterations.\n",
      "Algorithm has converged after 15 iterations.\n",
      "Algorithm has converged after 14 iterations.\n",
      "Algorithm has converged after 16 iterations.\n",
      "Algorithm has converged after 12 iterations.\n",
      "Algorithm has converged after 13 iterations.\n",
      "Algorithm has converged after 13 iterations.\n",
      "Algorithm has converged after 14 iterations.\n",
      "Algorithm has converged after 17 iterations.\n",
      "Algorithm has converged after 16 iterations.\n",
      "Algorithm has converged after 16 iterations.\n"
     ]
    }
   ],
   "source": [
    "excecution_time=[]\n",
    "number_ants=[]\n",
    "for i in range(1,40,3):\n",
    "    i=i/10\n",
    "    ant_colony = AntTime(distances, n_ants=60, n_best=5,\n",
    "                            n_iterations=100, decay=0.4, alpha=1.25, beta=i)\n",
    "    Time = ant_colony.run()\n",
    "    number_ants.append(i)\n",
    "    excecution_time.append(Time)"
   ]
  },
  {
   "cell_type": "code",
   "execution_count": 12,
   "metadata": {},
   "outputs": [
    {
     "data": {
      "image/png": "[encoded data removed]",
      "text/plain": [
       "<Figure size 640x480 with 1 Axes>"
      ]
     },
     "metadata": {},
     "output_type": "display_data"
    }
   ],
   "source": [
    "plt.figure()  # 设置图像大小\n",
    "plt.bar(number_ants,excecution_time,width=0.1)  # 画柱状图，X轴是迭代次数，Y轴是距离值\n",
    "\n",
    "# 设置图表标题和轴标签\n",
    "plt.title(f'Iteration - beta')\n",
    "plt.xlabel('Beta')\n",
    "plt.ylabel('Excecution time')\n",
    "# 显示图表\n",
    "plt.show()"
   ]
  },
  {
   "cell_type": "code",
   "execution_count": null,
   "metadata": {},
   "outputs": [],
   "source": []
  },
  {
   "cell_type": "code",
   "execution_count": 13,
   "metadata": {},
   "outputs": [
    {
     "name": "stdout",
     "output_type": "stream",
     "text": [
      "Algorithm has converged after 13 iterations.\n",
      "optimal distance = 984.4450000000002\n"
     ]
    }
   ],
   "source": [
    "\n",
    "ant_colony = AntColony(distances, n_ants=60, n_best=5,\n",
    "                            n_iterations=100, decay=0.4, alpha=1.25, beta=3.0)\n",
    "shortest_path,dis, iterations = ant_colony.run()\n",
    "\n",
    "\n",
    "print(f'optimal distance = {dis[-1]}')\n"
   ]
  },
  {
   "cell_type": "code",
   "execution_count": 14,
   "metadata": {},
   "outputs": [
    {
     "name": "stdout",
     "output_type": "stream",
     "text": [
      "Algorithm has converged after 28 iterations.\n",
      "optimal distance = 922.805\n"
     ]
    }
   ],
   "source": [
    "iteration=100\n",
    "\n",
    "ant_colony = AntColony(distances, n_ants=100, n_best=10,\n",
    "                        n_iterations=iteration, decay=0.5, alpha=1, beta=2)\n",
    "shortest_path,dis, iterations = ant_colony.run()\n",
    "print(f'optimal distance = {dis[-1]}')\n",
    "\n"
   ]
  },
  {
   "cell_type": "code",
   "execution_count": null,
   "metadata": {},
   "outputs": [],
   "source": []
  },
  {
   "cell_type": "code",
   "execution_count": null,
   "metadata": {},
   "outputs": [],
   "source": []
  }
 ],
 "metadata": {
  "kernelspec": {
   "display_name": "base",
   "language": "python",
   "name": "python3"
  },
  "language_info": {
   "codemirror_mode": {
    "name": "ipython",
    "version": 3
   },
   "file_extension": ".py",
   "mimetype": "text/x-python",
   "name": "python",
   "nbconvert_exporter": "python",
   "pygments_lexer": "ipython3",
   "version": "3.11.5"
  }
 },
 "nbformat": 4,
 "nbformat_minor": 2
}
