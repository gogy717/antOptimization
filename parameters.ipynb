{
 "cells": [
  {
   "cell_type": "code",
   "execution_count": 11,
   "metadata": {},
   "outputs": [],
   "source": [
    "import numpy as np\n",
    "import matplotlib.pyplot as plt\n",
    "from antOptimization import AntColony,AntTime\n",
    "\n",
    "\n",
    "def generate_random_distance_matrix(size):\n",
    "    # 生成一个随机的距离矩阵，矩阵大小为 size x size\n",
    "    np.random.seed(42)  # 设置随机种子以确保结果的可重复性\n",
    "    distances = np.random.uniform(1, 100, size=(size, size))  # 生成随机距离，范围1到100\n",
    "    distances = np.round(distances, 2)\n",
    "\n",
    "    distances = (distances + distances.T) / 2  # 使矩阵对称，确保距离的一致性\n",
    "    np.fill_diagonal(distances, np.inf)  # 设置对角线为无穷大，表示自己到自己的距离\n",
    "    return distances\n"
   ]
  },
  {
   "cell_type": "code",
   "execution_count": 12,
   "metadata": {},
   "outputs": [],
   "source": [
    "import numpy as np\n",
    "import random\n",
    "from numpy.random import choice as np_choice\n",
    "import time\n",
    "\n",
    "\n",
    "class AntColony():\n",
    "    def __init__(self, distances, n_ants, n_best, n_iterations, decay, alpha=1, beta=1):\n",
    "        \"\"\"\n",
    "        distances : 2D array\n",
    "            Square matrix of distances. Diagonal is assumed to be np.inf.\n",
    "        n_ants : int\n",
    "            Number of ants running per iteration\n",
    "        n_best : int\n",
    "            Number of best ants who deposit pheromone\n",
    "        n_iteration : int\n",
    "            Number of iterations\n",
    "        decay : float\n",
    "            Rate it which pheromone decays. The pheromone value is multiplied by decay,\n",
    "            so 0.95 will lead to decay, 0.5 to much faster decay.\n",
    "        alpha : int or float\n",
    "            Exponenet on pheromone, higher alpha gives pheromone more weight. Default=1\n",
    "        beta : int or float\n",
    "            Exponent on distance, higher beta give distance more weight. Default=1\n",
    "        \"\"\"\n",
    "        self.distances  = distances\n",
    "        self.pheromone = np.ones(self.distances.shape) / len(distances)\n",
    "        self.all_inds = range(len(distances))\n",
    "        self.n_ants = n_ants\n",
    "        self.n_best = n_best\n",
    "        self.n_iterations = n_iterations\n",
    "        self.decay = decay\n",
    "        self.alpha = alpha\n",
    "        self.beta = beta\n",
    "\n",
    "    def run(self):\n",
    "        shortest_path = None\n",
    "        all_time_shortest_path = (\"placeholder\", np.inf)\n",
    "        iteration_shortest_paths = []  # List to store each iteration's shortest path\n",
    "        convergence_threshold = 0.01  # 定义收敛阈值\n",
    "        convergence_count = 5  # 定义需要连续多少次小于阈值才认为收敛\n",
    "        convergence_iterations = 0  # 初始化连续达到阈值的次数\n",
    "        previous_shortest_distance = np.inf  # 初始化前一次的最短路径长度\n",
    "\n",
    "        for i in range(self.n_iterations):\n",
    "            all_paths = self.gen_all_paths()\n",
    "            self.spread_pheronome(all_paths, self.n_best, shortest_path=shortest_path)\n",
    "            shortest_path = min(all_paths, key=lambda x: x[1])\n",
    "            iteration_shortest_paths.append(shortest_path[1])  # Append current iteration's shortest distance\n",
    "            if shortest_path[1] < all_time_shortest_path[1]:\n",
    "                all_time_shortest_path = shortest_path            \n",
    "            self.pheromone = self.pheromone * self.decay\n",
    "            # 判断是否收敛\n",
    "            distance_improvement = previous_shortest_distance - shortest_path[1]\n",
    "            if distance_improvement < convergence_threshold:\n",
    "                convergence_iterations += 1\n",
    "                # print(distance_improvement)\n",
    "            else:\n",
    "                # print(distance_improvement)\n",
    "                convergence_iterations = 0  # 重置连续达到阈值的次数\n",
    "            if convergence_iterations >= convergence_count:\n",
    "                print(f\"Algorithm has converged after {i+1} iterations.\")\n",
    "                break  # 收敛，跳出循环            \n",
    "            previous_shortest_distance = shortest_path[1]  # 更新前一次的最短路径长度\n",
    "        return all_time_shortest_path, iteration_shortest_paths, i+1  # Return the all-time shortest path and list of iteration shortest paths\n",
    "\n",
    "    def spread_pheronome(self, all_paths, n_best, shortest_path):\n",
    "        sorted_paths = sorted(all_paths, key=lambda x: x[1])\n",
    "        for path, dist in sorted_paths[:n_best]:\n",
    "            for move in path:\n",
    "                self.pheromone[move] += 1.0 / self.distances[move]\n",
    "\n",
    "    def gen_path_dist(self, path):\n",
    "        \"\"\"\n",
    "        calculate the distance of the path\n",
    "        \"\"\"\n",
    "        total_dist = 0\n",
    "        for ele in path:\n",
    "            total_dist += self.distances[ele]\n",
    "        return total_dist\n",
    "\n",
    "    def gen_all_paths(self):\n",
    "        all_paths = []\n",
    "        for i in range(self.n_ants):\n",
    "            path = self.gen_path(0)\n",
    "            all_paths.append((path, self.gen_path_dist(path)))\n",
    "        return all_paths\n",
    "\n",
    "    def gen_path(self, start):\n",
    "        \"\"\"\n",
    "        create a list of moves(in tuple) with length of the number of cities - 1\n",
    "        \"\"\"\n",
    "        path = []\n",
    "        visited = set()\n",
    "        visited.add(start)\n",
    "        prev = start\n",
    "        for i in range(len(self.distances) - 1):\n",
    "            move = self.pick_move(self.pheromone[prev], self.distances[prev], visited)\n",
    "            path.append((prev, move))\n",
    "            prev = move\n",
    "            visited.add(move)\n",
    "        path.append((prev, start)) # going back to where we started    \n",
    "        return path\n",
    "\n",
    "    def pick_move(self, pheromone, dist, visited):\n",
    "        \"\"\"\n",
    "        轮盘赌法\n",
    "        \"\"\"\n",
    "        pheromone = np.copy(pheromone)\n",
    "        pheromone[list(visited)] = 0\n",
    "\n",
    "        row = pheromone ** self.alpha * (( 1.0 / dist) ** self.beta)    # possibility\n",
    "\n",
    "        norm_row = row / row.sum()\n",
    "        move = np_choice(self.all_inds, 1, p=norm_row)[0]   # p is the possibility of each move\n",
    "        return move\n",
    "\n",
    "\n",
    "\n",
    "class AntTime(AntColony):\n",
    "    def run(self):\n",
    "        start_time = time.time()  # Record the start time\n",
    "        shortest_path = None\n",
    "        all_time_shortest_path = (\"placeholder\", np.inf)\n",
    "        iteration_shortest_paths = []  # List to store each iteration's shortest path\n",
    "        convergence_threshold = 0.01  # 定义收敛阈值\n",
    "        convergence_count = 5  # 定义需要连续多少次小于阈值才认为收敛\n",
    "        convergence_iterations = 0  # 初始化连续达到阈值的次数\n",
    "        previous_shortest_distance = np.inf  # 初始化前一次的最短路径长度\n",
    "\n",
    "        for i in range(self.n_iterations):\n",
    "            all_paths = self.gen_all_paths()\n",
    "            self.spread_pheronome(all_paths, self.n_best, shortest_path=shortest_path)\n",
    "            shortest_path = min(all_paths, key=lambda x: x[1])\n",
    "            iteration_shortest_paths.append(shortest_path[1])  # Append current iteration's shortest distance\n",
    "            if shortest_path[1] < all_time_shortest_path[1]:\n",
    "                all_time_shortest_path = shortest_path            \n",
    "            self.pheromone = self.pheromone * self.decay\n",
    "            # 判断是否收敛\n",
    "            distance_improvement = previous_shortest_distance - shortest_path[1]\n",
    "            if distance_improvement < convergence_threshold:\n",
    "                convergence_iterations += 1\n",
    "                # print(distance_improvement)\n",
    "            else:\n",
    "                # print(distance_improvement)\n",
    "                convergence_iterations = 0  # 重置连续达到阈值的次数\n",
    "            if convergence_iterations >= convergence_count:\n",
    "                print(f\"Algorithm has converged after {i+1} iterations.\")\n",
    "                break  # 收敛，跳出循环            \n",
    "            previous_shortest_distance = shortest_path[1]  # 更新前一次的最短路径长度\n",
    "        end_time = time.time()  # Record the end time\n",
    "        execution_time = end_time - start_time  # Calculate the execution time\n",
    "        return execution_time  # Return the all-time shortest path and list of iteration shortest paths\n"
   ]
  },
  {
   "cell_type": "code",
   "execution_count": 4,
   "metadata": {},
   "outputs": [
    {
     "data": {
      "text/plain": [
       "array([[   inf, 90.785, 55.44 , ..., 12.325, 64.275, 37.33 ],\n",
       "       [90.785,    inf, 48.68 , ..., 53.61 , 17.46 , 62.265],\n",
       "       [55.44 , 48.68 ,    inf, ..., 14.53 , 59.885, 36.78 ],\n",
       "       ...,\n",
       "       [12.325, 53.61 , 14.53 , ...,    inf, 72.48 , 61.56 ],\n",
       "       [64.275, 17.46 , 59.885, ..., 72.48 ,    inf, 24.26 ],\n",
       "       [37.33 , 62.265, 36.78 , ..., 61.56 , 24.26 ,    inf]])"
      ]
     },
     "execution_count": 4,
     "metadata": {},
     "output_type": "execute_result"
    }
   ],
   "source": [
    "\n",
    "# 生成80*80的随机距离矩阵\n",
    "size = 80\n",
    "distances = generate_random_distance_matrix(size)\n",
    "distances\n"
   ]
  },
  {
   "cell_type": "code",
   "execution_count": 13,
   "metadata": {},
   "outputs": [
    {
     "name": "stdout",
     "output_type": "stream",
     "text": [
      "Algorithm has converged after 17 iterations.\n",
      "Algorithm has converged after 18 iterations.\n",
      "Algorithm has converged after 47 iterations.\n",
      "Algorithm has converged after 39 iterations.\n",
      "Algorithm has converged after 50 iterations.\n",
      "Algorithm has converged after 39 iterations.\n",
      "Algorithm has converged after 26 iterations.\n",
      "Algorithm has converged after 46 iterations.\n",
      "Algorithm has converged after 73 iterations.\n"
     ]
    }
   ],
   "source": [
    "excecution_time=[]\n",
    "number_ants=[]\n",
    "for i in range(1,60,5):\n",
    "    ant_colony = AntTime(distances, n_ants=60, n_best=i,\n",
    "                            n_iterations=100, decay=0.5, alpha=1, beta=2)\n",
    "    Time= ant_colony.run()\n",
    "    number_ants.append(i)\n",
    "    excecution_time.append(Time)"
   ]
  },
  {
   "cell_type": "code",
   "execution_count": 14,
   "metadata": {},
   "outputs": [
    {
     "data": {
      "image/png": "[encoded data removed]",
      "text/plain": [
       "<Figure size 640x480 with 1 Axes>"
      ]
     },
     "metadata": {},
     "output_type": "display_data"
    }
   ],
   "source": [
    "plt.figure()  # 设置图像大小\n",
    "plt.bar(number_ants,excecution_time)  # 画柱状图，X轴是迭代次数，Y轴是距离值\n",
    "\n",
    "# 设置图表标题和轴标签\n",
    "plt.title(f'Iteration - number of elite ants')\n",
    "plt.xlabel('number of elite Ants')\n",
    "plt.ylabel('Excecution time')\n",
    "# 显示图表\n",
    "plt.show()\n"
   ]
  },
  {
   "cell_type": "code",
   "execution_count": 26,
   "metadata": {},
   "outputs": [
    {
     "name": "stdout",
     "output_type": "stream",
     "text": [
      "0.1\n",
      "Algorithm has converged after 16 iterations.\n",
      "0.2\n",
      "Algorithm has converged after 16 iterations.\n",
      "0.3\n",
      "Algorithm has converged after 20 iterations.\n",
      "0.4\n",
      "Algorithm has converged after 19 iterations.\n",
      "0.5\n",
      "Algorithm has converged after 27 iterations.\n",
      "0.6\n",
      "Algorithm has converged after 30 iterations.\n",
      "0.7\n",
      "Algorithm has converged after 52 iterations.\n",
      "0.8\n",
      "Algorithm has converged after 76 iterations.\n",
      "0.9\n",
      "Algorithm has converged after 89 iterations.\n"
     ]
    }
   ],
   "source": [
    "excecution_time=[]\n",
    "number_ants=[]\n",
    "for i in range(1,10,1):\n",
    "    i=i/10\n",
    "    ant_colony = AntTime(distances, n_ants=60, n_best=5,\n",
    "                            n_iterations=100, decay=i, alpha=1, beta=2)\n",
    "    Time = ant_colony.run()\n",
    "    number_ants.append(i)\n",
    "    excecution_time.append(Time)"
   ]
  },
  {
   "cell_type": "code",
   "execution_count": 32,
   "metadata": {},
   "outputs": [
    {
     "name": "stdout",
     "output_type": "stream",
     "text": [
      "[2.4969470500946045, 2.3493902683258057, 2.909846782684326, 2.765807867050171, 3.9675331115722656, 4.609447240829468, 7.690804958343506, 11.316339015960693, 12.820970058441162]\n",
      "[0.1, 0.2, 0.3, 0.4, 0.5, 0.6, 0.7, 0.8, 0.9]\n"
     ]
    }
   ],
   "source": [
    "print(excecution_time)\n",
    "print(number_ants)"
   ]
  },
  {
   "cell_type": "code",
   "execution_count": 35,
   "metadata": {},
   "outputs": [
    {
     "data": {
      "image/png": "[encoded data removed]",
      "text/plain": [
       "<Figure size 640x480 with 1 Axes>"
      ]
     },
     "metadata": {},
     "output_type": "display_data"
    }
   ],
   "source": [
    "plt.figure()  # 设置图像大小\n",
    "plt.bar(number_ants,excecution_time,width=0.09)  # 画柱状图，X轴是迭代次数，Y轴是距离值\n",
    "\n",
    "# 设置图表标题和轴标签\n",
    "plt.title(f'Iteration - Decay')\n",
    "plt.xlabel('decay')\n",
    "plt.ylabel('Excecution time')\n",
    "# 显示图表\n",
    "plt.show()\n"
   ]
  },
  {
   "cell_type": "code",
   "execution_count": 36,
   "metadata": {},
   "outputs": [
    {
     "name": "stdout",
     "output_type": "stream",
     "text": [
      "Algorithm has converged after 68 iterations.\n",
      "Algorithm has converged after 58 iterations.\n",
      "Algorithm has converged after 29 iterations.\n",
      "Algorithm has converged after 20 iterations.\n",
      "Algorithm has converged after 14 iterations.\n",
      "Algorithm has converged after 15 iterations.\n",
      "Algorithm has converged after 10 iterations.\n",
      "Algorithm has converged after 14 iterations.\n"
     ]
    }
   ],
   "source": [
    "excecution_time=[]\n",
    "number_ants=[]\n",
    "for i in range(1,20,2):\n",
    "    i=i/10\n",
    "    ant_colony = AntTime(distances, n_ants=60, n_best=5,\n",
    "                            n_iterations=100, decay=0.4, alpha=i, beta=2)\n",
    "    Time = ant_colony.run()\n",
    "    number_ants.append(i)\n",
    "    excecution_time.append(Time)"
   ]
  },
  {
   "cell_type": "code",
   "execution_count": 37,
   "metadata": {},
   "outputs": [
    {
     "data": {
      "image/png": "[encoded data removed]",
      "text/plain": [
       "<Figure size 640x480 with 1 Axes>"
      ]
     },
     "metadata": {},
     "output_type": "display_data"
    }
   ],
   "source": [
    "plt.figure()  # 设置图像大小\n",
    "plt.bar(number_ants,excecution_time,width=0.15)  # 画柱状图，X轴是迭代次数，Y轴是距离值\n",
    "\n",
    "# 设置图表标题和轴标签\n",
    "plt.title(f'Iteration - alpha')\n",
    "plt.xlabel('Alpha')\n",
    "plt.ylabel('Excecution time')\n",
    "# 显示图表\n",
    "plt.show()\n"
   ]
  },
  {
   "cell_type": "code",
   "execution_count": 38,
   "metadata": {},
   "outputs": [
    {
     "name": "stdout",
     "output_type": "stream",
     "text": [
      "Algorithm has converged after 26 iterations.\n",
      "Algorithm has converged after 23 iterations.\n",
      "Algorithm has converged after 17 iterations.\n",
      "Algorithm has converged after 16 iterations.\n",
      "Algorithm has converged after 16 iterations.\n",
      "Algorithm has converged after 16 iterations.\n",
      "Algorithm has converged after 16 iterations.\n",
      "Algorithm has converged after 15 iterations.\n",
      "Algorithm has converged after 20 iterations.\n",
      "Algorithm has converged after 16 iterations.\n",
      "Algorithm has converged after 13 iterations.\n",
      "Algorithm has converged after 12 iterations.\n",
      "Algorithm has converged after 18 iterations.\n"
     ]
    }
   ],
   "source": [
    "excecution_time=[]\n",
    "number_ants=[]\n",
    "for i in range(1,40,3):\n",
    "    i=i/10\n",
    "    ant_colony = AntTime(distances, n_ants=60, n_best=5,\n",
    "                            n_iterations=100, decay=0.4, alpha=1.25, beta=i)\n",
    "    Time = ant_colony.run()\n",
    "    number_ants.append(i)\n",
    "    excecution_time.append(Time)"
   ]
  },
  {
   "cell_type": "code",
   "execution_count": 39,
   "metadata": {},
   "outputs": [
    {
     "data": {
      "image/png": "[encoded data removed]",
      "text/plain": [
       "<Figure size 640x480 with 1 Axes>"
      ]
     },
     "metadata": {},
     "output_type": "display_data"
    }
   ],
   "source": [
    "plt.figure()  # 设置图像大小\n",
    "plt.bar(number_ants,excecution_time,width=0.1)  # 画柱状图，X轴是迭代次数，Y轴是距离值\n",
    "\n",
    "# 设置图表标题和轴标签\n",
    "plt.title(f'Iteration - beta')\n",
    "plt.xlabel('Beta')\n",
    "plt.ylabel('Excecution time')\n",
    "# 显示图表\n",
    "plt.show()"
   ]
  },
  {
   "cell_type": "code",
   "execution_count": null,
   "metadata": {},
   "outputs": [],
   "source": []
  },
  {
   "cell_type": "code",
   "execution_count": 46,
   "metadata": {},
   "outputs": [
    {
     "name": "stdout",
     "output_type": "stream",
     "text": [
      "Algorithm has converged after 20 iterations.\n",
      "optimal distance = 918.5100000000002\n"
     ]
    }
   ],
   "source": [
    "\n",
    "ant_colony = AntColony(distances, n_ants=60, n_best=5,\n",
    "                            n_iterations=100, decay=0.4, alpha=1.25, beta=3.0)\n",
    "shortest_path,dis, iterations = ant_colony.run()\n",
    "\n",
    "\n",
    "print(f'optimal distance = {dis[-1]}')\n"
   ]
  },
  {
   "cell_type": "code",
   "execution_count": 47,
   "metadata": {},
   "outputs": [
    {
     "name": "stdout",
     "output_type": "stream",
     "text": [
      "Algorithm has converged after 26 iterations.\n",
      "optimal distance = 922.2850000000004\n"
     ]
    }
   ],
   "source": [
    "iteration=100\n",
    "\n",
    "ant_colony = AntColony(distances, n_ants=100, n_best=10,\n",
    "                        n_iterations=iteration, decay=0.5, alpha=1, beta=2)\n",
    "shortest_path,dis, iterations = ant_colony.run()\n",
    "print(f'optimal distance = {dis[-1]}')\n",
    "\n"
   ]
  },
  {
   "cell_type": "code",
   "execution_count": null,
   "metadata": {},
   "outputs": [],
   "source": []
  },
  {
   "cell_type": "code",
   "execution_count": null,
   "metadata": {},
   "outputs": [],
   "source": []
  }
 ],
 "metadata": {
  "kernelspec": {
   "display_name": "base",
   "language": "python",
   "name": "python3"
  },
  "language_info": {
   "codemirror_mode": {
    "name": "ipython",
    "version": 3
   },
   "file_extension": ".py",
   "mimetype": "text/x-python",
   "name": "python",
   "nbconvert_exporter": "python",
   "pygments_lexer": "ipython3",
   "version": "3.11.5"
  }
 },
 "nbformat": 4,
 "nbformat_minor": 2
}
